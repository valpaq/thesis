{
 "cells": [
  {
   "cell_type": "code",
   "execution_count": 3,
   "id": "7ee3809f",
   "metadata": {},
   "outputs": [
    {
     "data": {
      "text/plain": [
       "190151"
      ]
     },
     "execution_count": 3,
     "metadata": {},
     "output_type": "execute_result"
    }
   ],
   "source": [
    "57896044618658097711785492504343953926634992332820282019728792003956565010119 - 2**255"
   ]
  },
  {
   "cell_type": "code",
   "execution_count": 8,
   "id": "d72267b7",
   "metadata": {},
   "outputs": [
    {
     "name": "stdout",
     "output_type": "stream",
     "text": [
      " - простое число p  6703903964971298549787012499102923063739682910296196688861780721860882015036773488400937149083451713845015929093243025426876941405973284973216824503045257  и p%12  1\n",
      " - простое число p  6703903964971298549787012499102923063739682910296196688861780721860882015036773488400937149083451713845015929093243025426876941405973284973216824503050231  и p%12  7\n",
      " - простое число p  6703903964971298549787012499102923063739682910296196688861780721860882015036773488400937149083451713845015929093243025426876941405973284973216824503050297  и p%12  1\n"
     ]
    },
    {
     "name": "stderr",
     "output_type": "stream",
     "text": [
      "  ***   Warning: MPQS: factoring this number will take several hours:\n",
      "N = 67913471467874253505676111349691869504031621539108691308438546673223106129459859812428299.\n"
     ]
    },
    {
     "name": "stdout",
     "output_type": "stream",
     "text": [
      " - простое число p  6703903964971298549787012499102923063739682910296196688861780721860882015036773488400937149083451713845015929093243025426876941405973284973216824503050729  и p%12  1\n",
      " - простое число p  6703903964971298549787012499102923063739682910296196688861780721860882015036773488400937149083451713845015929093243025426876941405973284973216824503052841  и p%12  1\n",
      " - простое число p  6703903964971298549787012499102923063739682910296196688861780721860882015036773488400937149083451713845015929093243025426876941405973284973216824503053207  и p%12  7\n",
      " - простое число p  6703903964971298549787012499102923063739682910296196688861780721860882015036773488400937149083451713845015929093243025426876941405973284973216824503054407  и p%12  7\n",
      " - простое число p  6703903964971298549787012499102923063739682910296196688861780721860882015036773488400937149083451713845015929093243025426876941405973284973216824503057119  и p%12  7\n"
     ]
    },
    {
     "name": "stderr",
     "output_type": "stream",
     "text": [
      "  *** /tmp/ipykernel_86084/87696533.py:81: RuntimeWarning: cypari2 leaked 181968 bytes on the PARI stack\n",
      "  m_delta_factored = factor(m_delta)\n",
      "  Warning: MPQS: factoring this number will take many hours:\n",
      "N = 24100806544839967642638806147552968259484107639735606898198790904392503446471958576716275536540653947.\n"
     ]
    },
    {
     "ename": "TypeError",
     "evalue": "catching classes that do not inherit from BaseException is not allowed",
     "output_type": "error",
     "traceback": [
      "\u001b[0;31m---------------------------------------------------------------------------\u001b[0m",
      "\u001b[0;31mKeyboardInterrupt\u001b[0m                         Traceback (most recent call last)",
      "Input \u001b[0;32mIn [8]\u001b[0m, in \u001b[0;36m<cell line: 64>\u001b[0;34m()\u001b[0m\n\u001b[1;32m     79\u001b[0m         \u001b[38;5;28;01mif\u001b[39;00m m_delta \u001b[38;5;241m%\u001b[39mInteger(\u001b[38;5;241m4\u001b[39m) \u001b[38;5;241m==\u001b[39m Integer(\u001b[38;5;241m0\u001b[39m) :\n\u001b[1;32m     80\u001b[0m \u001b[38;5;66;03m#             print(\"m_delta\",m_delta)\u001b[39;00m\n\u001b[0;32m---> 81\u001b[0m             m_delta_factored \u001b[38;5;241m=\u001b[39m \u001b[43mfactor\u001b[49m\u001b[43m(\u001b[49m\u001b[43mm_delta\u001b[49m\u001b[43m)\u001b[49m\n\u001b[1;32m     82\u001b[0m \u001b[38;5;66;03m#             print(\"m_delta_factored\", m_delta_factored)\u001b[39;00m\n\u001b[1;32m     83\u001b[0m         \u001b[38;5;28;01melse\u001b[39;00m:\n",
      "File \u001b[0;32m/usr/lib/python3/dist-packages/sage/arith/misc.py:2593\u001b[0m, in \u001b[0;36mfactor\u001b[0;34m(n, proof, int_, algorithm, verbose, **kwds)\u001b[0m\n\u001b[1;32m   2592\u001b[0m \u001b[38;5;28;01mif\u001b[39;00m \u001b[38;5;28misinstance\u001b[39m(n, Integer):\n\u001b[0;32m-> 2593\u001b[0m     \u001b[38;5;28;01mreturn\u001b[39;00m \u001b[43mm\u001b[49m\u001b[43m(\u001b[49m\u001b[43mproof\u001b[49m\u001b[38;5;241;43m=\u001b[39;49m\u001b[43mproof\u001b[49m\u001b[43m,\u001b[49m\u001b[43m \u001b[49m\u001b[43malgorithm\u001b[49m\u001b[38;5;241;43m=\u001b[39;49m\u001b[43malgorithm\u001b[49m\u001b[43m,\u001b[49m\u001b[43m \u001b[49m\u001b[43mint_\u001b[49m\u001b[38;5;241;43m=\u001b[39;49m\u001b[43mint_\u001b[49m\u001b[43m,\u001b[49m\n\u001b[1;32m   2594\u001b[0m \u001b[43m             \u001b[49m\u001b[43mverbose\u001b[49m\u001b[38;5;241;43m=\u001b[39;49m\u001b[43mverbose\u001b[49m\u001b[43m,\u001b[49m\u001b[43m \u001b[49m\u001b[38;5;241;43m*\u001b[39;49m\u001b[38;5;241;43m*\u001b[39;49m\u001b[43mkwds\u001b[49m\u001b[43m)\u001b[49m\n\u001b[1;32m   2596\u001b[0m \u001b[38;5;66;03m# Polynomial or other factorable object\u001b[39;00m\n",
      "File \u001b[0;32m/usr/lib/python3/dist-packages/sage/rings/integer.pyx:4013\u001b[0m, in \u001b[0;36msage.rings.integer.Integer.factor (build/cythonized/sage/rings/integer.c:25530)\u001b[0;34m()\u001b[0m\n\u001b[1;32m   4012\u001b[0m from sage.rings.factorint import factor_using_pari\n\u001b[0;32m-> 4013\u001b[0m F = factor_using_pari(n, int_=int_, debug_level=verbose, proof=proof)\n\u001b[1;32m   4014\u001b[0m F.sort()\n",
      "File \u001b[0;32m/usr/lib/python3/dist-packages/sage/rings/factorint.pyx:345\u001b[0m, in \u001b[0;36msage.rings.factorint.factor_using_pari (build/cythonized/sage/rings/factorint.c:6401)\u001b[0;34m()\u001b[0m\n\u001b[1;32m    344\u001b[0m \n\u001b[0;32m--> 345\u001b[0m         p, e = n.__pari__().factor(proof=proof)\n\u001b[1;32m    346\u001b[0m         if int_:\n",
      "File \u001b[0;32mcypari2/gen.pyx:4308\u001b[0m, in \u001b[0;36mcypari2.gen.Gen.factor\u001b[0;34m()\u001b[0m\n",
      "\u001b[0;31mKeyboardInterrupt\u001b[0m: ",
      "\nDuring handling of the above exception, another exception occurred:\n",
      "\u001b[0;31mTypeError\u001b[0m                                 Traceback (most recent call last)",
      "Input \u001b[0;32mIn [8]\u001b[0m, in \u001b[0;36m<cell line: 64>\u001b[0;34m()\u001b[0m\n\u001b[1;32m    127\u001b[0m         \u001b[38;5;28;01mif\u001b[39;00m \u001b[38;5;28mlen\u001b[39m(results) \u001b[38;5;241m>\u001b[39m Integer(\u001b[38;5;241m0\u001b[39m):\n\u001b[1;32m    128\u001b[0m             \u001b[38;5;28;01mbreak\u001b[39;00m\n\u001b[0;32m--> 129\u001b[0m     \u001b[38;5;28;01mexcept\u001b[39;00m e:\n\u001b[1;32m    130\u001b[0m         \u001b[38;5;28;01mpass\u001b[39;00m\n\u001b[1;32m    131\u001b[0m \u001b[38;5;66;03m#         counter += 1\u001b[39;00m\n",
      "\u001b[0;31mTypeError\u001b[0m: catching classes that do not inherit from BaseException is not allowed"
     ]
    }
   ],
   "source": [
    "def ecIsSafePrime(p, endo):\n",
    "    if not is_prime(p):\n",
    "        return False\n",
    "#     print(\" - простое число = \", p)\n",
    "#     q = (p - 1) // 2\n",
    "#     if not is_prime(q):\n",
    "# #         print(\"q is not prime\")\n",
    "# #         print(q)\n",
    "#         return False\n",
    "#     print(\"before kronecker_symbol\")\n",
    "#     print(kronecker_symbol(endo, p))\n",
    "#     print(endo, p)\n",
    "    if kronecker_symbol(endo, p) != 1:\n",
    "        return False\n",
    "    if kronecker_symbol(2, p) != 1:\n",
    "        return False\n",
    "    print(\" - простое число p \", p, \" и p%12 \", p%12)\n",
    "    return True\n",
    "def ecCreateBasePoint(a, b, p):\n",
    "    K = GF(p)\n",
    "    ec = EllipticCurve([K(a), K(b)])\n",
    "    for x in range(1, 1010):\n",
    "        y = K(x**3 + a*x + b)\n",
    "        if kronecker_symbol(y, p) == 1:\n",
    "            try:\n",
    "                P = ec.lift_x(K(x), all=False)\n",
    "#                 print(\" - порядок точки: \", P.order());\n",
    "#                 print(factor(q))\n",
    "                return P\n",
    "#                 print(\" - построена точка \", P)\n",
    "#                 if P.order() == q:\n",
    "#                     print(\" - порядок точки: \", P.order())\n",
    "#                     return P\n",
    "\n",
    "            except: \n",
    "                pass\n",
    "    return False\n",
    "def norm_equation(D,p):\n",
    "    \"\"\" Solves the norm equation 4p=t^2-v^2D for t and v given D and a probable prime p.  Either returns a solution (t,v) or () if no solution exists \"\"\"\n",
    "    assert D < 0 and D%4 in (0,1) and is_pseudoprime(p)\n",
    "    if -D >= 4*p: return ()\n",
    "    if p==2: return (ZZ(sqrt(D+8)),1) if is_square(D+8) else ()\n",
    "    if kronecker(D,p) == -1: return ()\n",
    "    F=GF(p,proof=false)\n",
    "    x0=F(D).sqrt().lift()\n",
    "    assert not (x0^2 - D) % p  # just in case p isn't prime\n",
    "    if (x0-D)%2: x0 = p - x0\n",
    "    a,t,m = 2*p, x0, integer_floor(2*sqrt(p))\n",
    "    while t > m: a,t=t,a%t\n",
    "    if (4*p-t^2) % (-D): return ()\n",
    "    c = (4*p-t^2)//(-D)\n",
    "    if not is_square(c): return ()\n",
    "    v=sqrt(c)\n",
    "    assert 4*p == t^2-v^2*D\n",
    "    return (t,v)\n",
    "\n",
    "\n",
    "results = []\n",
    "endo = -3\n",
    "aClear = -15/4\n",
    "bClear = -11/4\n",
    "p=2**511 + 3095\n",
    "while True:\n",
    "    p=p.next_prime()\n",
    "    if not ecIsSafePrime(p, endo):\n",
    "#         counter += 1\n",
    "        continue\n",
    "    K = GF(p)\n",
    "    a = K(aClear)\n",
    "    b = K(bClear)\n",
    "    ec = EllipticCurve([a, b])\n",
    "    try:\n",
    "        resultNormEquation = norm_equation(endo, p)\n",
    "        if len(resultNormEquation) != 2:\n",
    "#             counter += 1\n",
    "            continue\n",
    "        m_delta = p + 1 + abs(resultNormEquation[0])\n",
    "        m__delta = p + 1 - abs(resultNormEquation[1])\n",
    "        if m_delta %4 == 0 :\n",
    "#             print(\"m_delta\",m_delta)\n",
    "            m_delta_factored = factor(m_delta)\n",
    "#             print(\"m_delta_factored\", m_delta_factored)\n",
    "        else:\n",
    "            m_delta_factored = []\n",
    "        if m__delta %4 == 0 :\n",
    "#             print(\"m__delta\",m__delta)\n",
    "            m__delta_factored = factor(m__delta)\n",
    "#             print(\"m__delta_factored\", m__delta_factored)\n",
    "        else:\n",
    "            m__delta_factored = []\n",
    "        if len(m_delta_factored) == 2:\n",
    "#             print(m_delta_factored)\n",
    "#             check = ecIsSafePrime(m_delta_factored[1][0], 1)\n",
    "#             if check:\n",
    "#                 pass\n",
    "#             else:\n",
    "#                 continue\n",
    "            print(\"m_delta_factored\", m_delta_factored)\n",
    "        elif len(m__delta_factored) == 2:\n",
    "            print(m__delta_factored)\n",
    "#             check = ecIsSafePrime(m__delta_factored[1][0], 1)\n",
    "#             if check:\n",
    "#                 pass\n",
    "#             else:\n",
    "#                 continue\n",
    "            print(\"m__delta_factored\", m__delta_factored)\n",
    "        else:\n",
    "            continue\n",
    "        point = ecCreateBasePoint(a, b, p)\n",
    "        if(point):\n",
    "#             print(point)\n",
    "#             print(a, b, p)\n",
    "#             print(ec)\n",
    "\n",
    "            results.append({\n",
    "                \"point.x\": point[0],\n",
    "                \"point.y\": point[1],\n",
    "                \"point.z\": point[2],\n",
    "                \"a\": a,\n",
    "                \"b\": b,\n",
    "                \"p\": p,\n",
    "                \"m_delta\": m_delta,\n",
    "                \"m__delta\": m__delta\n",
    "        #         \"q\": q,\n",
    "            })\n",
    "#         counter += 1\n",
    "        if len(results) > 0:\n",
    "            break\n",
    "    except e:\n",
    "        pass\n",
    "#         counter += 1\n",
    "\n",
    "results"
   ]
  },
  {
   "cell_type": "code",
   "execution_count": null,
   "id": "2273258b",
   "metadata": {},
   "outputs": [],
   "source": [
    "results"
   ]
  },
  {
   "cell_type": "code",
   "execution_count": 18,
   "id": "710a6283",
   "metadata": {},
   "outputs": [
    {
     "data": {
      "text/plain": [
       "14474011154664524427946373126085988481777980136002577561989638920376330856411"
      ]
     },
     "execution_count": 18,
     "metadata": {},
     "output_type": "execute_result"
    }
   ],
   "source": [
    "57896044618658097711785492504343953927111920544010310247958555681505323425644 / 4"
   ]
  },
  {
   "cell_type": "code",
   "execution_count": null,
   "id": "c0b9cacb",
   "metadata": {},
   "outputs": [],
   "source": [
    "14474011154664524427946373126085988481777980136002577561989638920376330856411"
   ]
  },
  {
   "cell_type": "code",
   "execution_count": 2,
   "id": "05d05ebe",
   "metadata": {},
   "outputs": [
    {
     "data": {
      "text/plain": [
       "-43422033463993573283839119378257965444857012196817704457739153083580233963557"
      ]
     },
     "execution_count": 2,
     "metadata": {},
     "output_type": "execute_result"
    }
   ],
   "source": [
    "14474011154664524427946373126085988481777980136002577561989638920376330856411 - 2**255 "
   ]
  },
  {
   "cell_type": "code",
   "execution_count": 32,
   "id": "499bf6a2",
   "metadata": {},
   "outputs": [
    {
     "data": {
      "text/plain": [
       "-439066579123911775080684183921334690790631973850803888031029119622761271166"
      ]
     },
     "execution_count": 32,
     "metadata": {},
     "output_type": "execute_result"
    }
   ],
   "source": [
    "1370184815209153778412612456839413869416711536549829925085495630500881379458 - 2**250"
   ]
  },
  {
   "cell_type": "code",
   "execution_count": 33,
   "id": "7c7dce4a",
   "metadata": {},
   "outputs": [
    {
     "data": {
      "text/plain": [
       "247"
      ]
     },
     "execution_count": 33,
     "metadata": {},
     "output_type": "execute_result"
    }
   ],
   "source": [
    "floor(log(439066579123911775080684183921334690790631973850803888031029119622761271166, 2))"
   ]
  },
  {
   "cell_type": "code",
   "execution_count": 15,
   "id": "443907c8",
   "metadata": {},
   "outputs": [
    {
     "data": {
      "text/plain": [
       "459380236842379925691657350193158814115145813187660929111617612336081141760"
      ]
     },
     "execution_count": 15,
     "metadata": {},
     "output_type": "execute_result"
    }
   ],
   "source": [
    "2**248+2**242 + 2**241+ 2 **240 + 2**238"
   ]
  },
  {
   "cell_type": "code",
   "execution_count": null,
   "id": "e40f6d5a",
   "metadata": {},
   "outputs": [],
   "source": []
  }
 ],
 "metadata": {
  "kernelspec": {
   "display_name": "SageMath 9.0",
   "language": "sage",
   "name": "sagemath"
  },
  "language_info": {
   "codemirror_mode": {
    "name": "ipython",
    "version": 3
   },
   "file_extension": ".py",
   "mimetype": "text/x-python",
   "name": "python",
   "nbconvert_exporter": "python",
   "pygments_lexer": "ipython3",
   "version": "3.8.10"
  }
 },
 "nbformat": 4,
 "nbformat_minor": 5
}
